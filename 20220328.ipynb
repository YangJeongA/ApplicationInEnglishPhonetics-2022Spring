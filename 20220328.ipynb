{
  "nbformat": 4,
  "nbformat_minor": 0,
  "metadata": {
    "colab": {
      "name": "20220328.ipynb",
      "provenance": [],
      "collapsed_sections": [],
      "authorship_tag": "ABX9TyNN5vVTTuFLNv66tCFZKFCx",
      "include_colab_link": true
    },
    "kernelspec": {
      "name": "python3",
      "display_name": "Python 3"
    },
    "language_info": {
      "name": "python"
    }
  },
  "cells": [
    {
      "cell_type": "markdown",
      "metadata": {
        "id": "view-in-github",
        "colab_type": "text"
      },
      "source": [
        "<a href=\"https://colab.research.google.com/github/YangJeongA/class2022Spring/blob/main/20220328.ipynb\" target=\"_parent\"><img src=\"https://colab.research.google.com/assets/colab-badge.svg\" alt=\"Open In Colab\"/></a>"
      ]
    },
    {
      "cell_type": "code",
      "execution_count": null,
      "metadata": {
        "id": "TfTbQ1NZcK1Z"
      },
      "outputs": [],
      "source": [
        "!pip install gradio\n",
        "import gradio as gr\n",
        "import requests\n",
        "import pandas as pd"
      ]
    },
    {
      "cell_type": "code",
      "source": [
        "URL = ('http://apis.data.go.kr/B552061/jaywalking/'\n",
        "       'getRestJaywalking?'\n",
        "       'ServiceKey=53ZhRgLmsWQaYVBp2elITceI0M9vf7a1psY%2F5jObRx0UaEH1RIUjwBHYMhtWctsVJS9P%2FbyEODXv5NPtv3Ii6w%3D%3D'\n",
        "       '&searchYearCd=2017'\n",
        "       '&siDo=11'\n",
        "       '&guGun=680'\n",
        "       '&numOfRows=10'\n",
        "       '&pageNo=1'\n",
        "       '&type=json')\n",
        "\n",
        "response = requests.get(URL)"
      ],
      "metadata": {
        "id": "lZ0RaP-miBp-"
      },
      "execution_count": null,
      "outputs": []
    },
    {
      "cell_type": "code",
      "source": [
        "response"
      ],
      "metadata": {
        "colab": {
          "base_uri": "https://localhost:8080/"
        },
        "id": "AB3Q1UzrVFuQ",
        "outputId": "9e3a3761-c05d-4f30-95c1-7d5148a4f746"
      },
      "execution_count": null,
      "outputs": [
        {
          "output_type": "execute_result",
          "data": {
            "text/plain": [
              "<Response [200]>"
            ]
          },
          "metadata": {},
          "execution_count": 10
        }
      ]
    },
    {
      "cell_type": "code",
      "source": [
        "r = response.json()\n",
        "r"
      ],
      "metadata": {
        "id": "U9qizW2SVJHP"
      },
      "execution_count": null,
      "outputs": []
    },
    {
      "cell_type": "code",
      "source": [
        "items = r['items']['item']\n",
        "items"
      ],
      "metadata": {
        "id": "tWQYLFmOWDH5"
      },
      "execution_count": null,
      "outputs": []
    },
    {
      "cell_type": "code",
      "source": [
        "spot_cd = [item['spot_cd'] for item in items]\n",
        "sido_sgg_nm = [item['sido_sgg_nm'] for item in items]\n",
        "spot_nm = [item['spot_nm'] for item in items]\n",
        "occrrnc_cnt = [item['occrrnc_cnt'] for item in items]\n",
        "caslt_cnt = [item['caslt_cnt'] for item in items]\n",
        "dth_dnv_cnt = [item['dth_dnv_cnt'] for item in items]\n",
        "se_dnv_cnt = [item['se_dnv_cnt'] for item in items]\n",
        "sl_dnv_cnt = [item['sl_dnv_cnt'] for item in items]\n",
        "wnd_dnv_cnt = [item['wnd_dnv_cnt'] for item in items]\n",
        "\n",
        "spot_cd = pd.Series(spot_cd)\n",
        "sido_sgg_nm = pd.Series(sido_sgg_nm)\n",
        "spot_nm = pd.Series(spot_nm)\n",
        "occrrnc_cnt = pd.Series(occrrnc_cnt)\n",
        "caslt_cnt = pd.Series(caslt_cnt)\n",
        "dth_dnv_cnt = pd.Series(dth_dnv_cnt)\n",
        "se_dnv_cnt = pd.Series(se_dnv_cnt)\n",
        "sl_dnv_cnt = pd.Series(sl_dnv_cnt)\n",
        "wnd_dnv_cnt = pd.Series(wnd_dnv_cnt)\n",
        "\n",
        "df = pd.DataFrame({'spot_cd':spot_cd, 'sido_sgg_nm':sido_sgg_nm, 'spot_nm':spot_nm, 'occrrnc_cnt':occrrnc_cnt, 'caslt_cnt':caslt_cnt, 'dth_dnv_cnt':dth_dnv_cnt, 'se_dnv_cnt':se_dnv_cnt, 'sl_dnv_cnt':sl_dnv_cnt, 'wnd_dnv_cnt':wnd_dnv_cnt})"
      ],
      "metadata": {
        "id": "PyDQJ9RvYkPR"
      },
      "execution_count": null,
      "outputs": []
    },
    {
      "cell_type": "code",
      "source": [
        "df"
      ],
      "metadata": {
        "id": "7b8-8658ba_H"
      },
      "execution_count": null,
      "outputs": []
    },
    {
      "cell_type": "code",
      "source": [
        "def test(searchYearCd):\n",
        "  URL = ('http://apis.data.go.kr/B552061/jaywalking/'\n",
        "       'getRestJaywalking?'\n",
        "       'ServiceKey=53ZhRgLmsWQaYVBp2elITceI0M9vf7a1psY%2F5jObRx0UaEH1RIUjwBHYMhtWctsVJS9P%2FbyEODXv5NPtv3Ii6w%3D%3D'\n",
        "       '&searchYearCd=2017'\n",
        "       '&siDo=11'\n",
        "       '&guGun=680'\n",
        "       '&numOfRows=10'\n",
        "       '&pageNo=1'\n",
        "       '&type=json')\n",
        "\n",
        "  response = requests.get(URL)\n",
        "  r = response.json()\n",
        "  items = r['items']['item']\n",
        "\n",
        "  spot_cd = [item['spot_cd'] for item in items]\n",
        "  sido_sgg_nm = [item['sido_sgg_nm'] for item in items]\n",
        "  spot_nm = [item['spot_nm'] for item in items]\n",
        "  occrrnc_cnt = [item['occrrnc_cnt'] for item in items]\n",
        "  caslt_cnt = [item['caslt_cnt'] for item in items]\n",
        "  dth_dnv_cnt = [item['dth_dnv_cnt'] for item in items]\n",
        "  se_dnv_cnt = [item['se_dnv_cnt'] for item in items]\n",
        "  sl_dnv_cnt = [item['sl_dnv_cnt'] for item in items]\n",
        "  wnd_dnv_cnt = [item['wnd_dnv_cnt'] for item in items]\n",
        "\n",
        "  spot_cd = pd.Series(spot_cd)\n",
        "  sido_sgg_nm = pd.Series(sido_sgg_nm)\n",
        "  spot_nm = pd.Series(spot_nm)\n",
        "  occrrnc_cnt = pd.Series(occrrnc_cnt)\n",
        "  caslt_cnt = pd.Series(caslt_cnt)\n",
        "  dth_dnv_cnt = pd.Series(dth_dnv_cnt)\n",
        "  se_dnv_cnt = pd.Series(se_dnv_cnt)\n",
        "  sl_dnv_cnt = pd.Series(sl_dnv_cnt)\n",
        "  wnd_dnv_cnt = pd.Series(wnd_dnv_cnt)\n",
        "\n",
        "  df = pd.DataFrame({'spot_cd':spot_cd, 'sido_sgg_nm':sido_sgg_nm, 'spot_nm':spot_nm, 'occrrnc_cnt':occrrnc_cnt, 'caslt_cnt':caslt_cnt, 'dth_dnv_cnt':dth_dnv_cnt, 'se_dnv_cnt':se_dnv_cnt, 'sl_dnv_cnt':sl_dnv_cnt, 'wnd_dnv_cnt':wnd_dnv_cnt})\n",
        "  return df"
      ],
      "metadata": {
        "id": "aYNgaClVbojL"
      },
      "execution_count": null,
      "outputs": []
    },
    {
      "cell_type": "code",
      "source": [
        "!pip install gradio\n",
        "import gradio as gr"
      ],
      "metadata": {
        "id": "ZvLcJ3u1dWBo"
      },
      "execution_count": null,
      "outputs": []
    },
    {
      "cell_type": "code",
      "source": [
        "iface = gr.Interface(test, gr.inputs.Dropdown(['2014', '2015', '2016', '2017', '2018', '2019', '2020', '2021', '2022']), outputs=['dataframe'])\n",
        "iface.launch(debug=True)"
      ],
      "metadata": {
        "colab": {
          "base_uri": "https://localhost:8080/",
          "height": 593
        },
        "id": "OcWsILJOd2E8",
        "outputId": "c588fec3-8695-4b5a-9e1d-52a83bd8183e"
      },
      "execution_count": null,
      "outputs": [
        {
          "metadata": {
            "tags": null
          },
          "name": "stdout",
          "output_type": "stream",
          "text": [
            "Colab notebook detected. This cell will run indefinitely so that you can see errors and logs. To turn off, set debug=False in launch().\n",
            "Running on public URL: https://36882.gradio.app\n",
            "\n",
            "This share link expires in 72 hours. For free permanent hosting, check out Spaces (https://huggingface.co/spaces)\n"
          ]
        },
        {
          "data": {
            "text/html": [
              "\n",
              "        <iframe\n",
              "            width=\"900\"\n",
              "            height=\"500\"\n",
              "            src=\"https://36882.gradio.app\"\n",
              "            frameborder=\"0\"\n",
              "            allowfullscreen\n",
              "        ></iframe>\n",
              "        "
            ],
            "text/plain": [
              "<IPython.lib.display.IFrame at 0x7f3a384b3a10>"
            ]
          },
          "metadata": {},
          "output_type": "display_data"
        }
      ]
    }
  ]
}