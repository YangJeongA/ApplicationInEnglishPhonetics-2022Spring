{
  "nbformat": 4,
  "nbformat_minor": 0,
  "metadata": {
    "colab": {
      "name": "20220425.ipynb",
      "provenance": [],
      "authorship_tag": "ABX9TyOA58S0SXFToLhrBZ5oW0Dy",
      "include_colab_link": true
    },
    "kernelspec": {
      "name": "python3",
      "display_name": "Python 3"
    },
    "language_info": {
      "name": "python"
    }
  },
  "cells": [
    {
      "cell_type": "markdown",
      "metadata": {
        "id": "view-in-github",
        "colab_type": "text"
      },
      "source": [
        "<a href=\"https://colab.research.google.com/github/YangJeongA/class2022Spring/blob/main/20220425.ipynb\" target=\"_parent\"><img src=\"https://colab.research.google.com/assets/colab-badge.svg\" alt=\"Open In Colab\"/></a>"
      ]
    },
    {
      "cell_type": "markdown",
      "source": [
        "#Auto correlation\n",
        "\n",
        "- 자기 자신의 correlation을 나타내는 값\n",
        "- 시간 또는 공간적으로 연속된 일련의 관측치들 간에 존재하는 상관관계\n",
        "- 주로 시계열의 시차 값(lagged values) 사이의 선형 관계를 측정함 (시계열자료에서는 현재의 상태가 과거와 미래의 상태에 밀접한 연관을 지니는 경우가 많기 때문)\n",
        "- pitch를 측정"
      ],
      "metadata": {
        "id": "EcM9Rte5v8Ty"
      }
    },
    {
      "cell_type": "markdown",
      "source": [
        "#RMS: root mean square\n",
        "- 파형 신호의 순시값 제곱을 한 주기간 평균한 것의 제곱근\n",
        "- 증폭기가 연속적으로 낼 수 있는 출력을 표시하는 것으로, 이 출력값이 높을수록 기본적인 증폭 능력이 좋음\n",
        "- 전기공학이나 음향학에서 많이 쓰임"
      ],
      "metadata": {
        "id": "_Q7lJNDfv_Gh"
      }
    }
  ]
}