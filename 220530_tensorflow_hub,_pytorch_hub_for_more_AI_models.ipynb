{
  "nbformat": 4,
  "nbformat_minor": 0,
  "metadata": {
    "colab": {
      "name": "220530 tensorflow hub, pytorch hub for more AI models.ipynb",
      "provenance": [],
      "collapsed_sections": [],
      "authorship_tag": "ABX9TyNXskqwHLFETEWBI39eQYMs",
      "include_colab_link": true
    },
    "kernelspec": {
      "name": "python3",
      "display_name": "Python 3"
    },
    "language_info": {
      "name": "python"
    }
  },
  "cells": [
    {
      "cell_type": "markdown",
      "metadata": {
        "id": "view-in-github",
        "colab_type": "text"
      },
      "source": [
        "<a href=\"https://colab.research.google.com/github/YangJeongA/class2022Spring/blob/main/220530_tensorflow_hub%2C_pytorch_hub_for_more_AI_models.ipynb\" target=\"_parent\"><img src=\"https://colab.research.google.com/assets/colab-badge.svg\" alt=\"Open In Colab\"/></a>"
      ]
    },
    {
      "cell_type": "markdown",
      "source": [
        "hugging face외의 다른 AI model들 살펴보기"
      ],
      "metadata": {
        "id": "9IEgJMr6R69Y"
      }
    },
    {
      "cell_type": "markdown",
      "source": [
        "facebook에서 제공하는 pytorch, google에서 제공하는 tensorflow에 대해 알아볼 것"
      ],
      "metadata": {
        "id": "3BuA6fO3R9wm"
      }
    },
    {
      "cell_type": "markdown",
      "source": [
        "- Tensorflow와 pytorch는 둘 다 python 내의 libraries(package)\n",
        "  - AI와 관련된 함수들!\n",
        "  - 어떤 알고리즘을 두 가지 모두로 짤 수 있지만 각자의 장점이 있음\n",
        "  - huggingface에 있는 AI model들도 대부분 pytorch아니면 tensorflow로 만들어진 것들"
      ],
      "metadata": {
        "id": "MQqdv_ym02zt"
      }
    },
    {
      "cell_type": "markdown",
      "source": [
        "# [Tensorflow hub](https://www.tensorflow.org/hub)\n",
        "- fine-tuning: (matrix) pre-trained된 모델이 있을 때, 다른 새로운 데이터를 가져와서 model을 확장(변경)시키는 것 "
      ],
      "metadata": {
        "id": "mu9Oub-12cCt"
      }
    },
    {
      "cell_type": "markdown",
      "source": [
        "image classification (e.g. [inception_v3](https://tfhub.dev/google/imagenet/inception_v3/classification/5))"
      ],
      "metadata": {
        "id": "ci6w0TMZ2mEK"
      }
    },
    {
      "cell_type": "code",
      "execution_count": null,
      "metadata": {
        "id": "gYN2PuZwR0is"
      },
      "outputs": [],
      "source": [
        "import tensorflow.compat.v2 as tf\n",
        "import tensorflow_hub as hub"
      ]
    },
    {
      "cell_type": "code",
      "source": [
        "model = hub.KerasLayer(\"https://tfhub.dev/google/imagenet/inception_v3/classification/5\")\n",
        "\n",
        "\n",
        "# hub에서 모델을 가져옴"
      ],
      "metadata": {
        "id": "iGaPiRXJ4NHu"
      },
      "execution_count": null,
      "outputs": []
    },
    {
      "cell_type": "code",
      "source": [
        "from PIL import Image\n",
        "import requests\n",
        "url = 'http://images.cocodataset.org/val2017/000000039769.jpg'\n",
        "image = Image.open(requests.get(url, stream=True).raw)"
      ],
      "metadata": {
        "id": "yhgzotFY4OK7"
      },
      "execution_count": null,
      "outputs": []
    },
    {
      "cell_type": "code",
      "source": [
        "import numpy as np\n",
        "image = np.array(image)\n",
        "# reshape into shape [batch_size, height, width, num_channels]\n",
        "image = tf.reshape(image, [1, image.shape[0], image.shape[1], image.shape[2]])       #reshape해서 3차원의 image를 4차원으로 만들어줌 -> model 자체가 4차원이라서\n",
        "\n",
        "# Use `convert_image_dtype` to convert to floats in the [0,1] range.  (0~255의 실수에서 [0,1]의 range로 바꿔줌->model이 그렇게 훈련되어 있기 때문)\n",
        "image = tf.image.convert_image_dtype(image, tf.float32)\n",
        "\n",
        "# image는 RGB의 형태이므로 3차원 형태\n",
        "# image를 4차원으로 np.array화 해주어야 데이터로 사용 가능 (model특성상)"
      ],
      "metadata": {
        "id": "-7nC1-Vw4P8T"
      },
      "execution_count": null,
      "outputs": []
    },
    {
      "cell_type": "code",
      "source": [
        "logits = model(image)\n",
        "np.argmax(logits)    # np.argmax -> 가장 큰 값을 출력해 줌 -> 이 값에 해당하는 순서의 이미지가 가장 확률이 높은 이미지인 것\n",
        "\n",
        "# 이 단계에서 model을 사용 -> model안에 행렬들이 들어있고 image를 데이터로 넣는 것"
      ],
      "metadata": {
        "id": "Q_Crz5g-4UOj"
      },
      "execution_count": null,
      "outputs": []
    },
    {
      "cell_type": "markdown",
      "source": [
        "\n",
        "> https://storage.googleapis.com/download.tensorflow.org/data/ImageNetLabels.txt\n",
        "\n"
      ],
      "metadata": {
        "id": "So4FYXFl4Yph"
      }
    },
    {
      "cell_type": "markdown",
      "source": [
        "#[Pythorch Hub](https://pytorch.org/hub/research-models)"
      ],
      "metadata": {
        "id": "7Ey_suhA6z_g"
      }
    },
    {
      "cell_type": "markdown",
      "source": [
        "image generation (e.g. [PGAN](https://pytorch.org/hub/facebookresearch_pytorch-gan-zoo_pgan/))"
      ],
      "metadata": {
        "id": "z4EcleQ37Bc6"
      }
    },
    {
      "cell_type": "code",
      "source": [
        "import torch\n",
        "model = torch.hub.load('facebookresearch/pytorch_GAN_zoo:hub', 'PGAN', model_name='celebAHQ-512', pretrained=True)"
      ],
      "metadata": {
        "id": "egCv_Vk77Gpd"
      },
      "execution_count": null,
      "outputs": []
    },
    {
      "cell_type": "code",
      "source": [
        "num_images = 4\n",
        "noise, _ = model.buildNoiseData(num_images)\n",
        "with torch.no_grad():\n",
        "    generated_images = model.test(noise)\n",
        "# noise가 random한 image(얼굴)를 만들어줌 \n",
        "\n",
        "# let's plot these images using torchvision and matplotlib\n",
        "import matplotlib.pyplot as plt\n",
        "import torchvision\n",
        "grid = torchvision.utils.make_grid(generated_images.clamp(min=-1, max=1), scale_each=True, normalize=True)\n",
        "plt.imshow(grid.permute(1, 2, 0).cpu().numpy())"
      ],
      "metadata": {
        "id": "n190tt1t7IFS"
      },
      "execution_count": null,
      "outputs": []
    }
  ]
}