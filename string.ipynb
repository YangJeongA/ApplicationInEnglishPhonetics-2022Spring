{
  "nbformat": 4,
  "nbformat_minor": 0,
  "metadata": {
    "colab": {
      "name": "string.ipynb",
      "provenance": [],
      "collapsed_sections": [],
      "authorship_tag": "ABX9TyM2CobwIQgpSgq/HNK715kd",
      "include_colab_link": true
    },
    "kernelspec": {
      "name": "python3",
      "display_name": "Python 3"
    },
    "language_info": {
      "name": "python"
    }
  },
  "cells": [
    {
      "cell_type": "markdown",
      "metadata": {
        "id": "view-in-github",
        "colab_type": "text"
      },
      "source": [
        "<a href=\"https://colab.research.google.com/github/YangJeongA/class2022Spring/blob/main/string.ipynb\" target=\"_parent\"><img src=\"https://colab.research.google.com/assets/colab-badge.svg\" alt=\"Open In Colab\"/></a>"
      ]
    },
    {
      "cell_type": "markdown",
      "source": [
        "#string\n",
        "\n"
      ],
      "metadata": {
        "id": "JjHuTIKwL36q"
      }
    },
    {
      "cell_type": "markdown",
      "source": [
        "#index - string과 list\n",
        "string과 index는 유사성이 많은데 특히 index에서 같음"
      ],
      "metadata": {
        "id": "bXUNwSRUMj9k"
      }
    },
    {
      "cell_type": "code",
      "execution_count": null,
      "metadata": {
        "colab": {
          "base_uri": "https://localhost:8080/"
        },
        "id": "BAnzAAi_Kxai",
        "outputId": "7f683c7d-7f87-4b45-ce65-9482d6f642f7"
      },
      "outputs": [
        {
          "output_type": "stream",
          "name": "stdout",
          "text": [
            "a f f a\n",
            "bc bcdef abc abcdef\n"
          ]
        }
      ],
      "source": [
        "s = 'abcdef'\n",
        "print(s[0], s[5], s[-1], s[-6])\n",
        "print(s[1:3], s[1:], s[:3], s[:])"
      ]
    },
    {
      "cell_type": "code",
      "source": [
        "n = [100, 200, 300]\n",
        "print(n[0], n[2], n[-1], n[-3])\n",
        "print(n[1:2], n[1:], n[:2], n[:])"
      ],
      "metadata": {
        "colab": {
          "base_uri": "https://localhost:8080/"
        },
        "id": "8cw83Wo4L3oO",
        "outputId": "0cfbe4d3-3841-4ecd-bd2e-3590e61b9b26"
      },
      "execution_count": null,
      "outputs": [
        {
          "output_type": "stream",
          "name": "stdout",
          "text": [
            "100 300 300 100\n",
            "[200] [200, 300] [100, 200] [100, 200, 300]\n"
          ]
        }
      ]
    },
    {
      "cell_type": "markdown",
      "source": [
        "#함수, 메소드"
      ],
      "metadata": {
        "id": "REzq5eMTOHkE"
      }
    },
    {
      "cell_type": "markdown",
      "source": [
        "python에서 함수를 사용할 때의 형식-> 함수(입력)\n",
        "\n",
        "e.g, print()"
      ],
      "metadata": {
        "id": "4sS_5W67Oo2a"
      }
    },
    {
      "cell_type": "code",
      "source": [
        "len(s)"
      ],
      "metadata": {
        "colab": {
          "base_uri": "https://localhost:8080/"
        },
        "id": "GEB3cxVmNw0l",
        "outputId": "93a85eb4-6d8e-49dc-e755-2fb6542438c1"
      },
      "execution_count": null,
      "outputs": [
        {
          "output_type": "execute_result",
          "data": {
            "text/plain": [
              "6"
            ]
          },
          "metadata": {},
          "execution_count": 4
        }
      ]
    },
    {
      "cell_type": "markdown",
      "source": [
        "len이라는 함수는 변수가 가진 값의 길이를 알려줌"
      ],
      "metadata": {
        "id": "S-iSmln2N5oq"
      }
    },
    {
      "cell_type": "code",
      "source": [
        "s[1]+s[3]+s[4:]*10"
      ],
      "metadata": {
        "colab": {
          "base_uri": "https://localhost:8080/",
          "height": 35
        },
        "id": "klJf2lwBN-7y",
        "outputId": "2afd9763-2c51-44d1-b370-3d418d85b9a4"
      },
      "execution_count": null,
      "outputs": [
        {
          "output_type": "execute_result",
          "data": {
            "text/plain": [
              "'bdefefefefefefefefefef'"
            ],
            "application/vnd.google.colaboratory.intrinsic+json": {
              "type": "string"
            }
          },
          "metadata": {},
          "execution_count": 5
        }
      ]
    },
    {
      "cell_type": "markdown",
      "source": [
        "string에서도 +연산자 사용 가능"
      ],
      "metadata": {
        "id": "V1xqnbS-OD4C"
      }
    },
    {
      "cell_type": "code",
      "source": [
        "s.upper()"
      ],
      "metadata": {
        "colab": {
          "base_uri": "https://localhost:8080/",
          "height": 35
        },
        "id": "jOPwsxIDOZvv",
        "outputId": "7f325aa0-be4e-40ec-c041-1c3479fb142c"
      },
      "execution_count": null,
      "outputs": [
        {
          "output_type": "execute_result",
          "data": {
            "text/plain": [
              "'ABCDEF'"
            ],
            "application/vnd.google.colaboratory.intrinsic+json": {
              "type": "string"
            }
          },
          "metadata": {},
          "execution_count": 6
        }
      ]
    },
    {
      "cell_type": "markdown",
      "source": [
        "upper는 값을 모두 대문자로 바꿔줌"
      ],
      "metadata": {
        "id": "H-URUGZDPHWg"
      }
    },
    {
      "cell_type": "code",
      "source": [
        "s = ' this is a house built this year.\\n'\n",
        "s"
      ],
      "metadata": {
        "colab": {
          "base_uri": "https://localhost:8080/",
          "height": 35
        },
        "id": "tyoM-tJ8PMBR",
        "outputId": "ed09850c-4d77-4a11-c716-103268a39f23"
      },
      "execution_count": null,
      "outputs": [
        {
          "output_type": "execute_result",
          "data": {
            "text/plain": [
              "' this is a house built this year.\\n'"
            ],
            "application/vnd.google.colaboratory.intrinsic+json": {
              "type": "string"
            }
          },
          "metadata": {},
          "execution_count": 9
        }
      ]
    },
    {
      "cell_type": "code",
      "source": [
        "s.find('house')"
      ],
      "metadata": {
        "colab": {
          "base_uri": "https://localhost:8080/"
        },
        "id": "qXb_FoyOPcO2",
        "outputId": "43fb2f31-d407-4bee-b2a7-ab8f3acbabf8"
      },
      "execution_count": null,
      "outputs": [
        {
          "output_type": "execute_result",
          "data": {
            "text/plain": [
              "11"
            ]
          },
          "metadata": {},
          "execution_count": 10
        }
      ]
    },
    {
      "cell_type": "markdown",
      "source": [
        "- index of first instance of string t inside s (-1 if not found).\n",
        "\n",
        "- string에서 괄호 안의 값이 몇 번째에 위치해 있는지 출력"
      ],
      "metadata": {
        "id": "YODVuzM7PjVQ"
      }
    },
    {
      "cell_type": "code",
      "source": [
        "s.find('this')"
      ],
      "metadata": {
        "colab": {
          "base_uri": "https://localhost:8080/"
        },
        "id": "-rbUB4hAQAjN",
        "outputId": "825b372b-2a79-4a7a-fa5f-642ae19b627d"
      },
      "execution_count": null,
      "outputs": [
        {
          "output_type": "execute_result",
          "data": {
            "text/plain": [
              "1"
            ]
          },
          "metadata": {},
          "execution_count": 11
        }
      ]
    },
    {
      "cell_type": "markdown",
      "source": [
        "- 괄호 안의 값이 string 내에 여러개 있을 경우 가장 먼저 나오는 경우의 값이 출력됨"
      ],
      "metadata": {
        "id": "6SsLWIkaQHrW"
      }
    },
    {
      "cell_type": "code",
      "source": [
        "s = s.strip()"
      ],
      "metadata": {
        "id": "wHidznh8QGWY"
      },
      "execution_count": null,
      "outputs": []
    },
    {
      "cell_type": "markdown",
      "source": [
        "- a copy of s without leading or trailing whitespace\n",
        "- 양 끝의 whitespace를 지운 값이 출력됨"
      ],
      "metadata": {
        "id": "ledNCwI4QdQO"
      }
    },
    {
      "cell_type": "code",
      "source": [
        "tokens = s.split(' ')\n",
        "tokens"
      ],
      "metadata": {
        "colab": {
          "base_uri": "https://localhost:8080/"
        },
        "id": "8jRzbV6nQquJ",
        "outputId": "a814ef78-4203-4f11-ebb8-16e0b12a66a3"
      },
      "execution_count": null,
      "outputs": [
        {
          "output_type": "execute_result",
          "data": {
            "text/plain": [
              "['this', 'is', 'a', 'house', 'built', 'this', 'year.']"
            ]
          },
          "metadata": {},
          "execution_count": 17
        }
      ]
    },
    {
      "cell_type": "markdown",
      "source": [
        "- split s into a list wherever a t is found (whitespace by default)"
      ],
      "metadata": {
        "id": "yoOYmliJQ8wY"
      }
    },
    {
      "cell_type": "code",
      "source": [
        "s = ' '.join(tokens)\n",
        "s"
      ],
      "metadata": {
        "colab": {
          "base_uri": "https://localhost:8080/",
          "height": 35
        },
        "id": "PljoFjKDRI3F",
        "outputId": "fbb21356-46fb-474f-9194-fb728d120ea8"
      },
      "execution_count": null,
      "outputs": [
        {
          "output_type": "execute_result",
          "data": {
            "text/plain": [
              "'this is a house built this year.'"
            ],
            "application/vnd.google.colaboratory.intrinsic+json": {
              "type": "string"
            }
          },
          "metadata": {},
          "execution_count": 20
        }
      ]
    },
    {
      "cell_type": "markdown",
      "source": [
        "- combine the words of the text into a string using s as the glue\n",
        "\n",
        "  -> s.join(t)"
      ],
      "metadata": {
        "id": "0-LJEGU1ReHy"
      }
    },
    {
      "cell_type": "code",
      "source": [
        "s = s.replace('this', 'that')\n",
        "s"
      ],
      "metadata": {
        "colab": {
          "base_uri": "https://localhost:8080/",
          "height": 35
        },
        "id": "8ssl4ZFOR7N0",
        "outputId": "17a8a1c3-976d-4f9e-8227-4195cecbe1bf"
      },
      "execution_count": null,
      "outputs": [
        {
          "output_type": "execute_result",
          "data": {
            "text/plain": [
              "'that is a house built that year.'"
            ],
            "application/vnd.google.colaboratory.intrinsic+json": {
              "type": "string"
            }
          },
          "metadata": {},
          "execution_count": 21
        }
      ]
    },
    {
      "cell_type": "markdown",
      "source": [
        "- replace instances of t with u inside s\n",
        "  -> s.replace('t', 'u')"
      ],
      "metadata": {
        "id": "STq4bP1ESCac"
      }
    }
  ]
}