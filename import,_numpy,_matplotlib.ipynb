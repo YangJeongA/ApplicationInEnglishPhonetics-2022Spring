{
  "nbformat": 4,
  "nbformat_minor": 0,
  "metadata": {
    "colab": {
      "name": "import, numpy, matplotlib.ipynb",
      "provenance": [],
      "collapsed_sections": [],
      "toc_visible": true,
      "authorship_tag": "ABX9TyOInkr+SnZKY1tgcz33aqcc",
      "include_colab_link": true
    },
    "kernelspec": {
      "name": "python3",
      "display_name": "Python 3"
    },
    "language_info": {
      "name": "python"
    }
  },
  "cells": [
    {
      "cell_type": "markdown",
      "metadata": {
        "id": "view-in-github",
        "colab_type": "text"
      },
      "source": [
        "<a href=\"https://colab.research.google.com/github/YangJeongA/class2022Spring/blob/main/import%2C_numpy%2C_matplotlib.ipynb\" target=\"_parent\"><img src=\"https://colab.research.google.com/assets/colab-badge.svg\" alt=\"Open In Colab\"/></a>"
      ]
    },
    {
      "cell_type": "code",
      "execution_count": null,
      "metadata": {
        "id": "oxcVm3Fsx5ly"
      },
      "outputs": [],
      "source": [
        "import numpy"
      ]
    },
    {
      "cell_type": "code",
      "source": [
        "numpy.random.randn(5)"
      ],
      "metadata": {
        "colab": {
          "base_uri": "https://localhost:8080/"
        },
        "id": "ILGBvUE-yBPQ",
        "outputId": "1e42b8ae-78f8-4bc5-a41f-8db7bd0724d1"
      },
      "execution_count": null,
      "outputs": [
        {
          "output_type": "execute_result",
          "data": {
            "text/plain": [
              "array([ 0.41782769,  0.12940815, -0.78756005, -0.55163352, -0.7969452 ])"
            ]
          },
          "metadata": {},
          "execution_count": 3
        }
      ]
    },
    {
      "cell_type": "code",
      "source": [
        "import numpy as np\n",
        "n = np.random.randn(100)"
      ],
      "metadata": {
        "id": "fr7i7Bysyaby"
      },
      "execution_count": null,
      "outputs": []
    },
    {
      "cell_type": "markdown",
      "source": [
        "numpy를 줄여서 쓰겠다는 뜻 (np)."
      ],
      "metadata": {
        "id": "VtzYfSUayejF"
      }
    },
    {
      "cell_type": "code",
      "source": [
        "import matplotlib"
      ],
      "metadata": {
        "id": "Mlz6itf0ypWt"
      },
      "execution_count": null,
      "outputs": []
    },
    {
      "cell_type": "code",
      "source": [
        "matplotlib.pyplot.hist(n)"
      ],
      "metadata": {
        "colab": {
          "base_uri": "https://localhost:8080/",
          "height": 356
        },
        "id": "hYIPbpnOytDJ",
        "outputId": "245ebe60-8854-4b5b-f295-af96aa108cd2"
      },
      "execution_count": null,
      "outputs": [
        {
          "output_type": "execute_result",
          "data": {
            "text/plain": [
              "(array([ 2.,  3.,  9., 11., 12., 20., 16., 13., 11.,  3.]),\n",
              " array([-2.42858235, -1.98100722, -1.53343209, -1.08585696, -0.63828183,\n",
              "        -0.19070671,  0.25686842,  0.70444355,  1.15201868,  1.59959381,\n",
              "         2.04716894]),\n",
              " <a list of 10 Patch objects>)"
            ]
          },
          "metadata": {},
          "execution_count": 8
        },
        {
          "output_type": "display_data",
          "data": {
            "text/plain": [
              "<Figure size 432x288 with 1 Axes>"
            ],
            "image/png": "[encoded data removed]"
          },
          "metadata": {
            "needs_background": "light"
          }
        }
      ]
    },
    {
      "cell_type": "markdown",
      "source": [
        "random number를 실행하는 것 (n)으로 입력했으니까. -> 실행할 때 마다 다른 그림이 나옴\n",
        "\n",
        "hist -> 히스토그램\n",
        "\n",
        "히스토그램\n",
        "-> y축은 개수 "
      ],
      "metadata": {
        "id": "pNrSMNXByyvQ"
      }
    },
    {
      "cell_type": "code",
      "source": [
        "import matplotlib.pyplot\n",
        "matplotlib.pyplot.hist(n)"
      ],
      "metadata": {
        "id": "okkPIk39zBJ-"
      },
      "execution_count": null,
      "outputs": []
    },
    {
      "cell_type": "code",
      "source": [
        "import matplotlib.pyplot as plt\n",
        "plt.hist(n)"
      ],
      "metadata": {
        "id": "xBsJN-GMzlA8"
      },
      "execution_count": null,
      "outputs": []
    },
    {
      "cell_type": "markdown",
      "source": [
        "# 새 섹션"
      ],
      "metadata": {
        "id": "_-uBXd9Q0tb7"
      }
    },
    {
      "cell_type": "markdown",
      "source": [
        "numpy"
      ],
      "metadata": {
        "id": "PuZPBd1H0xNq"
      }
    },
    {
      "cell_type": "code",
      "source": [
        ""
      ],
      "metadata": {
        "id": "oYLn2VYR04Wc"
      },
      "execution_count": null,
      "outputs": []
    },
    {
      "cell_type": "markdown",
      "source": [
        "matrix -> 행렬 -> 직사각형의 숫자 배열(array)\n",
        "-> 다양한 직사각형을 말함. "
      ],
      "metadata": {
        "id": "LFSpxVBX07t0"
      }
    },
    {
      "cell_type": "code",
      "source": [
        "x = np.arange (0, 10, 2)\n",
        "print(x)\n",
        "print(type(x))\n",
        "print(x.shape)"
      ],
      "metadata": {
        "colab": {
          "base_uri": "https://localhost:8080/"
        },
        "id": "MtHd-4fg2POr",
        "outputId": "9dc3894e-e349-4d30-9688-8eb16a0f838d"
      },
      "execution_count": null,
      "outputs": [
        {
          "output_type": "stream",
          "name": "stdout",
          "text": [
            "[0 2 4 6 8]\n",
            "<class 'numpy.ndarray'>\n",
            "(5,)\n"
          ]
        }
      ]
    },
    {
      "cell_type": "markdown",
      "source": [
        "arange의 세번째 논항은 increment -> 이 값만큼 증가됨 "
      ],
      "metadata": {
        "id": "r_q1RknT2SsT"
      }
    },
    {
      "cell_type": "code",
      "source": [
        "x = np.linspace(0, 10, 6)"
      ],
      "metadata": {
        "id": "-YzDEPwA2kQv"
      },
      "execution_count": null,
      "outputs": []
    },
    {
      "cell_type": "markdown",
      "source": [
        "0부터 10까지 나누어서 총 6개의 숫자를 만들어라는 뜻. 이때, 등간격으로 만들어라! -> linear하게 space를 주어라."
      ],
      "metadata": {
        "id": "ExiYn4wV2n7w"
      }
    },
    {
      "cell_type": "code",
      "source": [
        "x = np.array([[1, 2, 3], [4, 5, 6]])\n",
        "print(x)\n",
        "print(type(x))\n",
        "print(x.shape)"
      ],
      "metadata": {
        "colab": {
          "base_uri": "https://localhost:8080/"
        },
        "id": "02FcfL8f2waV",
        "outputId": "b9d2fba6-c860-44d6-c27f-9dcc8e46da77"
      },
      "execution_count": null,
      "outputs": [
        {
          "output_type": "stream",
          "name": "stdout",
          "text": [
            "[[1 2 3]\n",
            " [4 5 6]]\n",
            "<class 'numpy.ndarray'>\n",
            "(2, 3)\n"
          ]
        }
      ]
    },
    {
      "cell_type": "markdown",
      "source": [
        "이중 리스트의 경우.\n",
        "-> 이 리스트를 array로 만들라는 말\n",
        "\n",
        "1 2 3 \n",
        "\n",
        "4 5 6\n",
        "\n",
        "-> print(x.shape)\n",
        "-> 2 array를 shape을 print 하면 (2, 3) 출력\n",
        "-> 2열 3행이라는 뜻.\n",
        "\n",
        "\n",
        "ndarray에서 맨앞or맨끝의 [or]의 개수를 보면 몇 차원의 array인지 알 수 있음"
      ],
      "metadata": {
        "id": "n1YY1sFv245M"
      }
    },
    {
      "cell_type": "code",
      "source": [
        "x = np.ones([2, 3, 3])"
      ],
      "metadata": {
        "id": "91mrEqBP35pi"
      },
      "execution_count": null,
      "outputs": []
    },
    {
      "cell_type": "markdown",
      "source": [
        "ones함수\n",
        "2 by 2 by 3의 1로 채워진 3darray가 만들어짐"
      ],
      "metadata": {
        "id": "8qcGxYzD38oy"
      }
    },
    {
      "cell_type": "code",
      "source": [
        "x = np.zeros()"
      ],
      "metadata": {
        "id": "p00bmA7K4CLh"
      },
      "execution_count": null,
      "outputs": []
    },
    {
      "cell_type": "markdown",
      "source": [
        "ones랑 비슷한데 1대신 0으로 채워지는 것"
      ],
      "metadata": {
        "id": "LVMgcl8x4D9O"
      }
    },
    {
      "cell_type": "markdown",
      "source": [
        "# 새 섹션"
      ],
      "metadata": {
        "id": "iBvkSPvL4LMb"
      }
    },
    {
      "cell_type": "markdown",
      "source": [
        "creat random numbers"
      ],
      "metadata": {
        "id": "npw225eX4Lua"
      }
    },
    {
      "cell_type": "code",
      "source": [
        "np.random.normal(0, 1, [2,3,4])"
      ],
      "metadata": {
        "colab": {
          "base_uri": "https://localhost:8080/"
        },
        "id": "xdzW_NJU4NN-",
        "outputId": "d5ccfd16-8a4b-4d7c-896b-f09d3acadf81"
      },
      "execution_count": null,
      "outputs": [
        {
          "output_type": "execute_result",
          "data": {
            "text/plain": [
              "array([[[ 0.42491539, -0.12331992,  0.77507425,  1.39437446],\n",
              "        [ 0.61188073,  1.46131098,  0.09343908,  0.40116661],\n",
              "        [ 1.20048173, -0.73282456,  2.55306769,  0.42963393]],\n",
              "\n",
              "       [[-1.87338509,  0.11602382,  1.07290607,  2.24761549],\n",
              "        [ 0.05836257, -0.21098972, -0.37800165,  0.55739836],\n",
              "        [-1.04981618,  0.27170297,  1.66141388, -0.89125332]]])"
            ]
          },
          "metadata": {},
          "execution_count": 11
        }
      ]
    },
    {
      "cell_type": "markdown",
      "source": [
        "normal 함수\n",
        "-> normal distribution의 ndarray를 만들어주는 함수\n",
        "-> numpy.random.normal 구글링해보면 normal 함수 사용 방법 알 수 있음\n",
        "\n",
        "\n",
        "세번째 논항에 숫자 3개 들어갔으니까 3d"
      ],
      "metadata": {
        "id": "7O7Yz9894Rs-"
      }
    },
    {
      "cell_type": "code",
      "source": [
        "import matplotlib.pyplot as plt"
      ],
      "metadata": {
        "id": "Dhv7kdPx5K2M"
      },
      "execution_count": null,
      "outputs": []
    },
    {
      "cell_type": "code",
      "source": [
        "x = np.random.normal(0, 1, 100)\n",
        "print(x)\n",
        "plt.hist(x, bins=10)"
      ],
      "metadata": {
        "colab": {
          "base_uri": "https://localhost:8080/",
          "height": 664
        },
        "id": "-8qC6lic5AZt",
        "outputId": "207a6c9a-9614-42c9-ea5a-e18f8f908287"
      },
      "execution_count": null,
      "outputs": [
        {
          "output_type": "stream",
          "name": "stdout",
          "text": [
            "[ 0.78270924  0.79894802 -0.58257251 -0.87114806 -0.21276482 -0.16109761\n",
            " -0.85435953  1.11407326  1.13336243  0.49874572 -1.18856273  0.72960292\n",
            "  0.87771409 -0.95912897  1.4835692   0.808547    0.0079055   0.38573905\n",
            "  3.21230582 -1.00055768 -0.05631474 -0.03444112 -0.80010128  2.2778663\n",
            " -0.67013273 -0.06507416  0.63648334  1.71161589 -1.67336924 -0.45436323\n",
            "  1.01506652  1.12598585 -0.10945673  0.06839    -0.11613606 -0.30609898\n",
            "  0.40034947  1.51984589 -0.03753493  0.72705933  0.4635185   0.97852229\n",
            "  0.91984473  0.84013607 -0.38161619 -1.04082039  0.07514205 -0.37566031\n",
            " -0.13871852 -0.14829423  0.54127283  0.66977996  0.18152197 -1.22259527\n",
            "  1.20105488  0.09840431 -0.33151957  0.37985268  0.84930925  0.25663608\n",
            " -0.06686546  1.69920959 -1.04218076  1.50796583 -0.65378988 -0.10258596\n",
            "  0.55704971 -0.68112166 -1.48134403 -0.69829407  0.47677083 -0.6446309\n",
            " -0.18032918  0.15800265  0.96095976 -0.63466431 -1.32546823  0.7002477\n",
            " -1.08358628 -0.27485451  0.01825685 -1.03789755  0.71750141  1.04137448\n",
            "  3.11190955 -0.66699454  0.13300539 -0.40115091  0.1734309  -0.21345085\n",
            "  0.90094269  0.24910061  0.40044832 -1.1250163  -0.94115756  1.04128564\n",
            " -1.33676699 -0.28250538 -1.34108427  0.48894681]\n"
          ]
        },
        {
          "output_type": "execute_result",
          "data": {
            "text/plain": [
              "(array([ 7., 12., 17., 23., 16., 17.,  5.,  0.,  1.,  2.]),\n",
              " array([-1.67336924, -1.18480174, -0.69623423, -0.20766672,  0.28090078,\n",
              "         0.76946829,  1.25803579,  1.7466033 ,  2.23517081,  2.72373831,\n",
              "         3.21230582]),\n",
              " <a list of 10 Patch objects>)"
            ]
          },
          "metadata": {},
          "execution_count": 13
        },
        {
          "output_type": "display_data",
          "data": {
            "text/plain": [
              "<Figure size 432x288 with 1 Axes>"
            ],
            "image/png": "[encoded data removed]"
          },
          "metadata": {
            "needs_background": "light"
          }
        }
      ]
    },
    {
      "cell_type": "markdown",
      "source": [
        "세번째 논항에 숫자 하나만 들어갔으므로 1darray"
      ],
      "metadata": {
        "id": "fu25zvVL5Hgr"
      }
    },
    {
      "cell_type": "code",
      "source": [
        ""
      ],
      "metadata": {
        "id": "nEcG2gtF522n"
      },
      "execution_count": null,
      "outputs": []
    },
    {
      "cell_type": "markdown",
      "source": [
        "generate sine figure"
      ],
      "metadata": {
        "id": "kKDcmmp65-Ti"
      }
    },
    {
      "cell_type": "code",
      "source": [
        "plt.figure()"
      ],
      "metadata": {
        "id": "uVoBiMlB6Bj9"
      },
      "execution_count": null,
      "outputs": []
    },
    {
      "cell_type": "code",
      "source": [
        "np.corrcoef(s1, s2)"
      ],
      "metadata": {
        "colab": {
          "base_uri": "https://localhost:8080/",
          "height": 172
        },
        "id": "dj_wgmzX8Vna",
        "outputId": "813422d5-47b6-4390-e4f6-4d9e74db83ce"
      },
      "execution_count": null,
      "outputs": [
        {
          "output_type": "error",
          "ename": "NameError",
          "evalue": "ignored",
          "traceback": [
            "\u001b[0;31m---------------------------------------------------------------------------\u001b[0m",
            "\u001b[0;31mNameError\u001b[0m                                 Traceback (most recent call last)",
            "\u001b[0;32m<ipython-input-14-d941b188fbe1>\u001b[0m in \u001b[0;36m<module>\u001b[0;34m()\u001b[0m\n\u001b[0;32m----> 1\u001b[0;31m \u001b[0mnp\u001b[0m\u001b[0;34m.\u001b[0m\u001b[0mcorrcoef\u001b[0m\u001b[0;34m(\u001b[0m\u001b[0ms1\u001b[0m\u001b[0;34m,\u001b[0m \u001b[0ms2\u001b[0m\u001b[0;34m)\u001b[0m\u001b[0;34m\u001b[0m\u001b[0;34m\u001b[0m\u001b[0m\n\u001b[0m",
            "\u001b[0;31mNameError\u001b[0m: name 's1' is not defined"
          ]
        }
      ]
    },
    {
      "cell_type": "markdown",
      "source": [
        "correlation -> 비례한다.\n",
        "coefficient \n",
        "\n",
        "이 두개를 구해서 어느 정도 비례하는지를 생각\n",
        "\n",
        "-1<=r<=1\n",
        "-> 더 많이 비례할 수록 r의 절대값이 1에 가까워짐.\n",
        "-> 0에 가까울수록 비례하는 정도도 낮아짐\n"
      ],
      "metadata": {
        "id": "RoTxZh8U8d40"
      }
    },
    {
      "cell_type": "markdown",
      "source": [
        ""
      ],
      "metadata": {
        "id": "NNFnmOxG95p4"
      }
    }
  ]
}